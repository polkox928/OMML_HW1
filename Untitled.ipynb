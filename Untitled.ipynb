{
 "cells": [
  {
   "cell_type": "code",
   "execution_count": 2,
   "metadata": {},
   "outputs": [],
   "source": [
    "import tensorflow as tf"
   ]
  },
  {
   "cell_type": "code",
   "execution_count": null,
   "metadata": {},
   "outputs": [],
   "source": [
    "def franke(x1, x2):\n",
    "  return (\n",
    "    .75 * math.exp(-(9 * x1 - 2) * 2 / 4.0 - (9 * x2 - 2) * 2 / 4.0) +\n",
    "    .75 * math.exp(-(9 * x1 + 1) ** 2 / 49.0 - (9 * x2 + 1) / 10.0) +\n",
    "    .5 * math.exp(-(9 * x1 - 7) * 2 / 4.0 - (9 * x2 - 3) * 2 / 4.0) -\n",
    "    .2 * math.exp(-(9 * x1 - 4) * 2 - (9 * x2 - 7) * 2)\n",
    "  )"
   ]
  }
 ],
 "metadata": {
  "kernelspec": {
   "display_name": "Python 3",
   "language": "python",
   "name": "python3"
  },
  "language_info": {
   "codemirror_mode": {
    "name": "ipython",
    "version": 3
   },
   "file_extension": ".py",
   "mimetype": "text/x-python",
   "name": "python",
   "nbconvert_exporter": "python",
   "pygments_lexer": "ipython3",
   "version": "3.6.2"
  }
 },
 "nbformat": 4,
 "nbformat_minor": 2
}
